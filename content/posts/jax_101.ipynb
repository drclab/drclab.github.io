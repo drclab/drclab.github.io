{
  "nbformat": 4,
  "nbformat_minor": 0,
  "metadata": {
    "colab": {
      "provenance": [],
      "gpuType": "T4"
    },
    "kernelspec": {
      "name": "python3",
      "display_name": "Python 3"
    },
    "language_info": {
      "name": "python"
    },
    "accelerator": "GPU"
  },
  "cells": [
    {
      "cell_type": "code",
      "execution_count": null,
      "metadata": {
        "id": "QXJxulqbq67K"
      },
      "outputs": [],
      "source": []
    },
    {
      "cell_type": "code",
      "metadata": {
        "colab": {
          "base_uri": "https://localhost:8080/"
        },
        "id": "20a5c314",
        "outputId": "8ed0810c-8fdc-4067-a12b-a71c0a3ea7d8"
      },
      "source": [
        "!nvidia-smi"
      ],
      "execution_count": 1,
      "outputs": [
        {
          "output_type": "stream",
          "name": "stdout",
          "text": [
            "Tue Oct 28 21:15:40 2025       \n",
            "+-----------------------------------------------------------------------------------------+\n",
            "| NVIDIA-SMI 550.54.15              Driver Version: 550.54.15      CUDA Version: 12.4     |\n",
            "|-----------------------------------------+------------------------+----------------------+\n",
            "| GPU  Name                 Persistence-M | Bus-Id          Disp.A | Volatile Uncorr. ECC |\n",
            "| Fan  Temp   Perf          Pwr:Usage/Cap |           Memory-Usage | GPU-Util  Compute M. |\n",
            "|                                         |                        |               MIG M. |\n",
            "|=========================================+========================+======================|\n",
            "|   0  Tesla T4                       Off |   00000000:00:04.0 Off |                    0 |\n",
            "| N/A   38C    P8              9W /   70W |       0MiB /  15360MiB |      0%      Default |\n",
            "|                                         |                        |                  N/A |\n",
            "+-----------------------------------------+------------------------+----------------------+\n",
            "                                                                                         \n",
            "+-----------------------------------------------------------------------------------------+\n",
            "| Processes:                                                                              |\n",
            "|  GPU   GI   CI        PID   Type   Process name                              GPU Memory |\n",
            "|        ID   ID                                                               Usage      |\n",
            "|=========================================================================================|\n",
            "|  No running processes found                                                             |\n",
            "+-----------------------------------------------------------------------------------------+\n"
          ]
        }
      ]
    },
    {
      "cell_type": "code",
      "source": [],
      "metadata": {
        "id": "FIEBd3bardJ_"
      },
      "execution_count": null,
      "outputs": []
    },
    {
      "cell_type": "code",
      "metadata": {
        "colab": {
          "base_uri": "https://localhost:8080/"
        },
        "id": "94404714",
        "outputId": "fd706558-94ae-4c7b-c29c-f31bbf9b4397"
      },
      "source": [
        "import jax\n",
        "import jax.numpy as jnp\n",
        "\n",
        "print(\"JAX version:\", jax.__version__)\n",
        "print(\"Backend:\", jax.default_backend())\n",
        "print(\"Devices:\", jax.devices())"
      ],
      "execution_count": 4,
      "outputs": [
        {
          "output_type": "stream",
          "name": "stdout",
          "text": [
            "JAX version: 0.7.2\n",
            "Backend: gpu\n",
            "Devices: [CudaDevice(id=0)]\n"
          ]
        }
      ]
    },
    {
      "cell_type": "code",
      "source": [
        "from jax import grad, jit\n",
        "\n",
        "x = jnp.linspace(-2.0, 2.0, 5)\n",
        "tau = 0.5\n",
        "\n",
        "def tempered_softmax(x, temperature):\n",
        "    shifted = x - jnp.max(x)\n",
        "    weights = jnp.exp(shifted / temperature)\n",
        "    return weights / jnp.sum(weights)\n",
        "\n",
        "softmax_val = tempered_softmax(x, tau)\n",
        "dsoftmax_dtau = grad(lambda t: tempered_softmax(x, t).sum())(tau)\n",
        "print(\"Softmax:\", softmax_val)\n",
        "print(\"d/dtau sum =\", dsoftmax_dtau)\n",
        "\n",
        "compiled_softmax = jit(tempered_softmax)\n",
        "_ = compiled_softmax(x, tau)"
      ],
      "metadata": {
        "colab": {
          "base_uri": "https://localhost:8080/"
        },
        "id": "LxZnMuAFr41u",
        "outputId": "47b79481-fe02-4897-a565-ede7a4e26c3d"
      },
      "execution_count": 5,
      "outputs": [
        {
          "output_type": "stream",
          "name": "stdout",
          "text": [
            "Softmax: [2.9007587e-04 2.1433870e-03 1.5837606e-02 1.1702495e-01 8.6470395e-01]\n",
            "d/dtau sum = -4.3092886e-08\n"
          ]
        }
      ]
    },
    {
      "cell_type": "code",
      "source": [
        "def make_dataset(key, n_samples=512, scale=1.0):\n",
        "    key_x, key_noise = jax.random.split(key)\n",
        "    X = scale * jax.random.normal(key_x, (n_samples, 2))\n",
        "    true_w = jnp.array([2.0, -1.0])\n",
        "    true_b = -0.8\n",
        "    logits = X @ true_w + true_b\n",
        "    probs = jax.nn.sigmoid(logits)\n",
        "    y = jax.random.bernoulli(key_noise, probs).astype(jnp.float32)\n",
        "    return X, y\n",
        "\n",
        "key = jax.random.PRNGKey(0)\n",
        "X_train, y_train = make_dataset(key)\n",
        "print(\"Shapes:\", X_train.shape, y_train.shape)"
      ],
      "metadata": {
        "colab": {
          "base_uri": "https://localhost:8080/"
        },
        "id": "7bvmIJKrsuAA",
        "outputId": "8fc5212f-194d-47c0-b59b-e0116737ccc3"
      },
      "execution_count": 6,
      "outputs": [
        {
          "output_type": "stream",
          "name": "stdout",
          "text": [
            "Shapes: (512, 2) (512,)\n"
          ]
        }
      ]
    },
    {
      "cell_type": "code",
      "source": [
        "import optax\n",
        "\n",
        "def model(params, X):\n",
        "    return X @ params[\"w\"] + params[\"b\"]\n",
        "\n",
        "def loss_fn(params, X, y):\n",
        "    logits = model(params, X)\n",
        "    losses = optax.sigmoid_binary_cross_entropy(logits, y)\n",
        "    return losses.mean()\n",
        "\n",
        "params = {\"w\": jnp.zeros((2,)), \"b\": 0.0}\n",
        "optimizer = optax.adam(learning_rate=3e-2)\n",
        "opt_state = optimizer.init(params)\n",
        "\n",
        "@jit\n",
        "def update(params, opt_state, X, y):\n",
        "    loss, grads = jax.value_and_grad(loss_fn)(params, X, y)\n",
        "    updates, opt_state = optimizer.update(grads, opt_state, params)\n",
        "    params = optax.apply_updates(params, updates)\n",
        "    probs = jax.nn.sigmoid(model(params, X))\n",
        "    accuracy = jnp.mean((probs > 0.5) == y)\n",
        "    return params, opt_state, loss, accuracy\n",
        "\n",
        "for step in range(1, 501):\n",
        "    params, opt_state, loss, acc = update(params, opt_state, X_train, y_train)\n",
        "    if step % 100 == 0:\n",
        "        print(f\"step {step:03d} loss={loss:.4f} acc={acc:.3f}\")"
      ],
      "metadata": {
        "colab": {
          "base_uri": "https://localhost:8080/"
        },
        "id": "MY-0ZQ7tsvVQ",
        "outputId": "444d425a-6723-4d1f-e2bf-fa0c8fb48d6a"
      },
      "execution_count": 7,
      "outputs": [
        {
          "output_type": "stream",
          "name": "stdout",
          "text": [
            "step 100 loss=0.4161 acc=0.805\n",
            "step 200 loss=0.4136 acc=0.805\n",
            "step 300 loss=0.4136 acc=0.805\n",
            "step 400 loss=0.4136 acc=0.805\n",
            "step 500 loss=0.4136 acc=0.805\n"
          ]
        }
      ]
    },
    {
      "cell_type": "code",
      "source": [
        "from functools import partial\n",
        "\n",
        "def predict_single(params, x):\n",
        "    return jax.nn.sigmoid(jnp.dot(x, params[\"w\"]) + params[\"b\"])\n",
        "\n",
        "batched_predict = jax.vmap(partial(predict_single, params), in_axes=(0,))\n",
        "probs = batched_predict(X_train)\n",
        "roc_points = jnp.stack([y_train, probs], axis=1)\n",
        "print(\"First five probability pairs:\\n\", roc_points[:5])"
      ],
      "metadata": {
        "colab": {
          "base_uri": "https://localhost:8080/"
        },
        "id": "NzeU4Dj6tDwT",
        "outputId": "f4e45c0f-58fa-43c6-af56-1c2db1ab79b2"
      },
      "execution_count": 8,
      "outputs": [
        {
          "output_type": "stream",
          "name": "stdout",
          "text": [
            "First five probability pairs:\n",
            " [[1.         0.9177734 ]\n",
            " [1.         0.32183945]\n",
            " [0.         0.04654315]\n",
            " [1.         0.88042223]\n",
            " [1.         0.992222  ]]\n"
          ]
        }
      ]
    },
    {
      "cell_type": "code",
      "source": [
        "@jax.jit\n",
        "def evaluate(params, X, y):\n",
        "    logits = model(params, X)\n",
        "    preds = (jax.nn.sigmoid(logits) > 0.5).astype(jnp.float32)\n",
        "    accuracy = jnp.mean(preds == y)\n",
        "    return accuracy\n",
        "\n",
        "acc = evaluate(params, X_train, y_train)\n",
        "jax.debug.print(\"Training accuracy: {acc:.3f}\", acc=acc)"
      ],
      "metadata": {
        "colab": {
          "base_uri": "https://localhost:8080/"
        },
        "id": "Bh-hlIwKtO8S",
        "outputId": "dac1443b-af2e-48ea-8265-e1c1d54bc3b1"
      },
      "execution_count": 9,
      "outputs": [
        {
          "output_type": "stream",
          "name": "stdout",
          "text": [
            "Training accuracy: 0.805\n"
          ]
        }
      ]
    },
    {
      "cell_type": "code",
      "source": [],
      "metadata": {
        "id": "D_FmaDu_tU5w"
      },
      "execution_count": null,
      "outputs": []
    }
  ]
}