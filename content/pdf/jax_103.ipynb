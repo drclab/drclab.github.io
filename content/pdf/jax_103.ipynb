{
  "nbformat": 4,
  "nbformat_minor": 0,
  "metadata": {
    "colab": {
      "provenance": [],
      "gpuType": "T4"
    },
    "kernelspec": {
      "name": "python3",
      "display_name": "Python 3"
    },
    "language_info": {
      "name": "python"
    },
    "accelerator": "GPU"
  },
  "cells": [
    {
      "cell_type": "code",
      "execution_count": 1,
      "metadata": {
        "id": "mM6_VqgViHPL"
      },
      "outputs": [],
      "source": [
        "import jax\n",
        "import jax.numpy as jnp\n",
        "from jax import grad, jit, vmap, jacfwd, jacrev\n",
        "import optax"
      ]
    },
    {
      "cell_type": "code",
      "source": [
        "def predict(params, features):\n",
        "    logits = features @ params[\"w\"] + params[\"b\"]\n",
        "    return jnp.array([logits, jax.nn.sigmoid(logits)])"
      ],
      "metadata": {
        "id": "LpX5FwJCiZzS"
      },
      "execution_count": 2,
      "outputs": []
    },
    {
      "cell_type": "code",
      "source": [
        "batched_predict = vmap(predict, in_axes=(None, 0))"
      ],
      "metadata": {
        "id": "o-7f4kewinE_"
      },
      "execution_count": 3,
      "outputs": []
    },
    {
      "cell_type": "code",
      "source": [
        "params = {\"w\": jnp.array([1.5, -0.5]), \"b\": 0.25}\n",
        "X = jnp.array([[1.0, 2.0], [2.5, -1.0], [-0.25, 0.75]])\n",
        "logits_probs = batched_predict(params, X)\n",
        "print(\"shape:\", logits_probs.shape)\n",
        "print(\"first row:\", logits_probs[0])"
      ],
      "metadata": {
        "colab": {
          "base_uri": "https://localhost:8080/"
        },
        "id": "o6cisnY9iuuC",
        "outputId": "0629aea1-10b4-4474-ada5-0d6a19ceaf64"
      },
      "execution_count": 4,
      "outputs": [
        {
          "output_type": "stream",
          "name": "stdout",
          "text": [
            "shape: (3, 2)\n",
            "first row: [0.75      0.6791787]\n"
          ]
        }
      ]
    },
    {
      "cell_type": "code",
      "source": [
        "print(logits_probs)"
      ],
      "metadata": {
        "colab": {
          "base_uri": "https://localhost:8080/"
        },
        "id": "YN6G15qmi0Zd",
        "outputId": "4d86386c-e027-495d-c7dc-59f5ab486c66"
      },
      "execution_count": 5,
      "outputs": [
        {
          "output_type": "stream",
          "name": "stdout",
          "text": [
            "[[ 0.75        0.6791787 ]\n",
            " [ 4.5         0.9890131 ]\n",
            " [-0.5         0.37754068]]\n"
          ]
        }
      ]
    },
    {
      "cell_type": "code",
      "source": [
        "def scaled_loss(scale, preds, targets):\n",
        "    residual = preds - targets\n",
        "    return scale * jnp.sum(residual**2)\n",
        "\n",
        "batched_loss = vmap(scaled_loss, in_axes=(None, 0, 0))\n",
        "\n",
        "scale = 0.5\n",
        "preds = jnp.array([[0.2, 0.8], [0.6, 0.4]])\n",
        "targets = jnp.array([[0.0, 1.0], [1.0, 0.0]])\n",
        "print(batched_loss(scale, preds, targets))"
      ],
      "metadata": {
        "colab": {
          "base_uri": "https://localhost:8080/"
        },
        "id": "B-1hdXFSjCIU",
        "outputId": "fbb585f9-652b-49ca-e6a1-c18ba29e85e5"
      },
      "execution_count": 6,
      "outputs": [
        {
          "output_type": "stream",
          "name": "stdout",
          "text": [
            "[0.04 0.16]\n"
          ]
        }
      ]
    },
    {
      "cell_type": "code",
      "source": [
        "def normalize(x):\n",
        "    x_centered = x - jnp.mean(x)\n",
        "    return x_centered / jnp.std(x)\n",
        "\n",
        "images = jax.random.normal(jax.random.PRNGKey(0), (32, 28, 28))\n",
        "channel_last_norm = vmap(normalize, in_axes=0, out_axes=-1)(images)\n",
        "print(\"channel_last_norm shape:\", channel_last_norm.shape)"
      ],
      "metadata": {
        "colab": {
          "base_uri": "https://localhost:8080/"
        },
        "id": "Do63H0sbjYXv",
        "outputId": "58fd2945-07bd-4203-fa55-81fae794de5b"
      },
      "execution_count": 7,
      "outputs": [
        {
          "output_type": "stream",
          "name": "stdout",
          "text": [
            "channel_last_norm shape: (28, 28, 32)\n"
          ]
        }
      ]
    },
    {
      "cell_type": "code",
      "source": [
        "def euclidean_distance(x, y):\n",
        "    return jnp.sqrt(jnp.sum((x - y) ** 2))\n",
        "\n",
        "pairwise_dist = vmap(vmap(euclidean_distance, in_axes=(None, 0)), in_axes=(0, None))\n",
        "\n",
        "X = jnp.array([[0., 0.], [1., 0.], [0., 1.]])\n",
        "Y = jnp.array([[0., 0.], [1., 1.]])\n",
        "print(pairwise_dist(X, Y))"
      ],
      "metadata": {
        "colab": {
          "base_uri": "https://localhost:8080/"
        },
        "id": "EKLWZ1K0j5YX",
        "outputId": "62a3412c-eb53-4134-deed-3347d0b1d977"
      },
      "execution_count": 8,
      "outputs": [
        {
          "output_type": "stream",
          "name": "stdout",
          "text": [
            "[[0.        1.4142135]\n",
            " [1.        1.       ]\n",
            " [1.        1.       ]]\n"
          ]
        }
      ]
    },
    {
      "cell_type": "code",
      "source": [
        "def loss_per_example(params, x, y):\n",
        "    logits = x @ params[\"w\"] + params[\"b\"]\n",
        "    return jnp.mean(optax.sigmoid_binary_cross_entropy(logits, y))\n",
        "\n",
        "grad_per_example = vmap(grad(loss_per_example), in_axes=(None, 0, 0))\n",
        "\n",
        "params = {\"w\": jnp.array([1.0, -2.0]), \"b\": 0.3}\n",
        "features = jnp.array([[1.0, 0.0], [0.5, 1.5], [2.0, -1.0]])\n",
        "targets = jnp.array([[1., 0., 1.], [0., 1., 0.], [1., 0., 1.]])\n",
        "grads = grad_per_example(params, features, targets)\n",
        "print(\"dw shape:\", grads[\"w\"].shape)\n",
        "print(\"db shape:\", grads[\"b\"].shape)"
      ],
      "metadata": {
        "colab": {
          "base_uri": "https://localhost:8080/"
        },
        "id": "0isJrGjbkQbj",
        "outputId": "2caa93fe-362d-491f-f581-4daa211f0ac6"
      },
      "execution_count": 9,
      "outputs": [
        {
          "output_type": "stream",
          "name": "stdout",
          "text": [
            "dw shape: (3, 2)\n",
            "db shape: (3,)\n"
          ]
        }
      ]
    },
    {
      "cell_type": "code",
      "source": [
        "def softmax_logits(theta):\n",
        "    return jax.nn.softmax(theta)\n",
        "\n",
        "theta = jnp.array([1.0, 0.0, -1.0])\n",
        "jacobian = jacrev(softmax_logits)(theta)\n",
        "print(jacobian)"
      ],
      "metadata": {
        "colab": {
          "base_uri": "https://localhost:8080/"
        },
        "id": "9mxZ1cW1kbtB",
        "outputId": "a1272170-9d7a-4ec3-8f24-4154e773a5df"
      },
      "execution_count": 10,
      "outputs": [
        {
          "output_type": "stream",
          "name": "stdout",
          "text": [
            "[[ 0.22269541 -0.1628034  -0.05989202]\n",
            " [-0.1628034   0.18483643 -0.02203304]\n",
            " [-0.05989202 -0.02203305  0.08192506]]\n"
          ]
        }
      ]
    },
    {
      "cell_type": "code",
      "source": [
        "def dropout_layer(key, x, rate=0.1):\n",
        "    keep = jax.random.bernoulli(key, p=1.0 - rate, shape=x.shape)\n",
        "    return keep * x / (1.0 - rate)\n",
        "\n",
        "def batched_dropout(key, inputs):\n",
        "    keys = jax.random.split(key, inputs.shape[0])\n",
        "    return vmap(dropout_layer)(keys, inputs)\n",
        "\n",
        "key = jax.random.PRNGKey(42)\n",
        "activations = jnp.ones((4, 5))\n",
        "print(batched_dropout(key, activations))"
      ],
      "metadata": {
        "colab": {
          "base_uri": "https://localhost:8080/"
        },
        "id": "VZnPLiEakhuz",
        "outputId": "c9c2f7ee-7d2f-4b3c-8372-d63e2aee1d9c"
      },
      "execution_count": 11,
      "outputs": [
        {
          "output_type": "stream",
          "name": "stdout",
          "text": [
            "[[1.1111112 1.1111112 0.        1.1111112 1.1111112]\n",
            " [1.1111112 1.1111112 1.1111112 1.1111112 1.1111112]\n",
            " [1.1111112 1.1111112 1.1111112 1.1111112 1.1111112]\n",
            " [1.1111112 1.1111112 1.1111112 1.1111112 1.1111112]]\n"
          ]
        }
      ]
    },
    {
      "cell_type": "code",
      "source": [
        "def rnn_cell(carry, x_t, params):\n",
        "    h_prev = carry\n",
        "    w_hh, w_xh, b = params\n",
        "    h = jnp.tanh(h_prev @ w_hh + x_t @ w_xh + b)\n",
        "    return h, h\n",
        "\n",
        "def run_sequence(inputs, params):\n",
        "    h0 = jnp.zeros(params[0].shape[0])\n",
        "    _, outputs = jax.lax.scan(lambda c, x: rnn_cell(c, x, params), h0, inputs)\n",
        "    return outputs\n",
        "\n",
        "batched_run_sequence = vmap(run_sequence, in_axes=(0, None))\n",
        "jitted_batched_run = jit(batched_run_sequence)"
      ],
      "metadata": {
        "id": "b_Qv1EjIkoIn"
      },
      "execution_count": 12,
      "outputs": []
    },
    {
      "cell_type": "code",
      "source": [],
      "metadata": {
        "id": "_gGOxGelkw-z"
      },
      "execution_count": null,
      "outputs": []
    }
  ]
}