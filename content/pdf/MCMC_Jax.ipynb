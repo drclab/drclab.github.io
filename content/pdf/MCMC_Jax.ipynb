{
  "nbformat": 4,
  "nbformat_minor": 0,
  "metadata": {
    "colab": {
      "provenance": [],
      "gpuType": "T4"
    },
    "kernelspec": {
      "name": "python3",
      "display_name": "Python 3"
    },
    "language_info": {
      "name": "python"
    },
    "accelerator": "GPU"
  },
  "cells": [
    {
      "cell_type": "code",
      "execution_count": 19,
      "metadata": {
        "colab": {
          "base_uri": "https://localhost:8080/"
        },
        "id": "9-TrnLA-rpp1",
        "outputId": "316c691d-c1b8-4853-d602-497ac06e2352"
      },
      "outputs": [
        {
          "output_type": "stream",
          "name": "stdout",
          "text": [
            "JAX version: 0.8.0\n",
            "Backend: gpu\n",
            "Devices: [CudaDevice(id=0)]\n"
          ]
        }
      ],
      "source": [
        "import jax\n",
        "\n",
        "print(\"JAX version:\", jax.__version__)\n",
        "print(\"Backend:\", jax.default_backend())\n",
        "print(\"Devices:\", jax.devices())"
      ]
    },
    {
      "cell_type": "code",
      "source": [
        "!nvidia-smi"
      ],
      "metadata": {
        "colab": {
          "base_uri": "https://localhost:8080/"
        },
        "id": "YBYgy4A1sEIo",
        "outputId": "c55b0e88-9001-43c6-db13-e295bc4535f5"
      },
      "execution_count": 2,
      "outputs": [
        {
          "output_type": "stream",
          "name": "stdout",
          "text": [
            "Wed Oct 29 15:59:42 2025       \n",
            "+-----------------------------------------------------------------------------------------+\n",
            "| NVIDIA-SMI 550.54.15              Driver Version: 550.54.15      CUDA Version: 12.4     |\n",
            "|-----------------------------------------+------------------------+----------------------+\n",
            "| GPU  Name                 Persistence-M | Bus-Id          Disp.A | Volatile Uncorr. ECC |\n",
            "| Fan  Temp   Perf          Pwr:Usage/Cap |           Memory-Usage | GPU-Util  Compute M. |\n",
            "|                                         |                        |               MIG M. |\n",
            "|=========================================+========================+======================|\n",
            "|   0  Tesla T4                       Off |   00000000:00:04.0 Off |                    0 |\n",
            "| N/A   43C    P0             27W /   70W |     110MiB /  15360MiB |      0%      Default |\n",
            "|                                         |                        |                  N/A |\n",
            "+-----------------------------------------+------------------------+----------------------+\n",
            "                                                                                         \n",
            "+-----------------------------------------------------------------------------------------+\n",
            "| Processes:                                                                              |\n",
            "|  GPU   GI   CI        PID   Type   Process name                              GPU Memory |\n",
            "|        ID   ID                                                               Usage      |\n",
            "|=========================================================================================|\n",
            "+-----------------------------------------------------------------------------------------+\n"
          ]
        }
      ]
    },
    {
      "cell_type": "code",
      "source": [
        "import jax.numpy as jnp\n",
        "import numpyro\n",
        "from sklearn.datasets import load_breast_cancer\n",
        "from sklearn.preprocessing import StandardScaler\n",
        "\n",
        "tfd = numpyro.distributions\n",
        "\n",
        "dataset = load_breast_cancer()\n",
        "scaler = StandardScaler()\n",
        "X = scaler.fit_transform(dataset.data).astype(\"float32\")\n",
        "y = dataset.target.astype(\"float32\")\n",
        "\n",
        "X = jnp.asarray(X)\n",
        "y = jnp.asarray(y)\n",
        "n_features = X.shape[1]\n",
        "print(\"Dataset shape:\", X.shape, y.shape)"
      ],
      "metadata": {
        "id": "ACe8H-X9sL1R",
        "colab": {
          "base_uri": "https://localhost:8080/"
        },
        "outputId": "0368cb13-c312-43d1-92a1-5270db7ddc3d"
      },
      "execution_count": 9,
      "outputs": [
        {
          "output_type": "stream",
          "name": "stdout",
          "text": [
            "Dataset shape: (569, 30) (569,)\n"
          ]
        }
      ]
    },
    {
      "cell_type": "code",
      "source": [
        "def joint_log_prob(x, y, tau, lamb, beta):\n",
        "    lp = tfd.Gamma(0.5, 0.5).log_prob(tau)\n",
        "    lp += tfd.Gamma(0.5, 0.5).log_prob(lamb).sum()\n",
        "    lp += tfd.Normal(0.0, 1.0).log_prob(beta).sum()\n",
        "    logits = x @ (tau * lamb * beta)\n",
        "    lp += tfd.Bernoulli(logits=logits).log_prob(y).sum()\n",
        "    return lp"
      ],
      "metadata": {
        "id": "ESClGIhSw1Q2"
      },
      "execution_count": 10,
      "outputs": []
    },
    {
      "cell_type": "code",
      "source": [
        "from jax import random\n",
        "\n",
        "key = random.key(0)           # initialize PRNG key\n",
        "beta = random.uniform(key, (30,), minval=0.0, maxval=1.0)\n",
        "\n",
        "print(beta)"
      ],
      "metadata": {
        "colab": {
          "base_uri": "https://localhost:8080/"
        },
        "id": "9szyGxAM09wR",
        "outputId": "114ba10d-8308-4e79-b2f0-68f423c9b2e4"
      },
      "execution_count": 15,
      "outputs": [
        {
          "output_type": "stream",
          "name": "stdout",
          "text": [
            "[0.947667   0.9785799  0.33229148 0.46866846 0.5698887  0.16550303\n",
            " 0.3101946  0.68948054 0.74676657 0.17101455 0.9853538  0.02528262\n",
            " 0.6400418  0.56269085 0.8992138  0.93453753 0.8341402  0.7256162\n",
            " 0.5098531  0.02765214 0.03148878 0.9580188  0.5188192  0.79221416\n",
            " 0.5522419  0.6113529  0.8931755  0.75499094 0.21164179 0.22934973]\n"
          ]
        }
      ]
    },
    {
      "cell_type": "code",
      "source": [
        "joint_log_prob(X, y, 1.0, 1.0, beta)"
      ],
      "metadata": {
        "colab": {
          "base_uri": "https://localhost:8080/"
        },
        "id": "EGlmGLN013xG",
        "outputId": "51b65cc3-4bce-4175-efd0-0b82e8e5f79b"
      },
      "execution_count": 16,
      "outputs": [
        {
          "output_type": "execute_result",
          "data": {
            "text/plain": [
              "Array(-4869.8623, dtype=float32)"
            ]
          },
          "metadata": {},
          "execution_count": 16
        }
      ]
    },
    {
      "cell_type": "code",
      "source": [
        "def unconstrained_joint_log_prob(x, y, z):\n",
        "    ndims = x.shape[-1]\n",
        "    unc_tau, unc_lamb, beta = jnp.split(z, [1, 1 + ndims])\n",
        "    unc_tau = unc_tau.reshape([])\n",
        "    tau = jnp.exp(unc_tau)\n",
        "    lamb = jnp.exp(unc_lamb)\n",
        "    ldj = unc_tau + unc_lamb.sum()\n",
        "    return joint_log_prob(x, y, tau, lamb, beta) + ldj\n",
        "\n",
        "target_log_prob = lambda z: unconstrained_joint_log_prob(X, y, z)"
      ],
      "metadata": {
        "id": "GdsDqXRv26un"
      },
      "execution_count": 20,
      "outputs": []
    },
    {
      "cell_type": "code",
      "source": [
        "target_log_prob_and_grad = jax.value_and_grad(target_log_prob)\n",
        "\n",
        "dim = 1 + n_features + n_features  # tau + lamb + beta\n",
        "z_init = jnp.zeros((dim,))\n",
        "\n",
        "logp, grad = target_log_prob_and_grad(z_init)\n",
        "print(\"Initial log-density:\", float(logp))\n",
        "print(\"Gradient L2 norm:\", float(jnp.linalg.norm(grad)))"
      ],
      "metadata": {
        "colab": {
          "base_uri": "https://localhost:8080/"
        },
        "id": "zNRKj1e23cJP",
        "outputId": "3017d3b4-81c8-4d43-9765-d2d7aa35e020"
      },
      "execution_count": 21,
      "outputs": [
        {
          "output_type": "stream",
          "name": "stdout",
          "text": [
            "Initial log-density: -465.95599365234375\n",
            "Gradient L2 norm: 803.6372680664062\n"
          ]
        }
      ]
    },
    {
      "cell_type": "code",
      "source": [],
      "metadata": {
        "id": "8khUUUV53rKw"
      },
      "execution_count": null,
      "outputs": []
    }
  ]
}